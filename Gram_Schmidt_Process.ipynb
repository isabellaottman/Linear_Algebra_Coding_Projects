{
  "nbformat": 4,
  "nbformat_minor": 0,
  "metadata": {
    "colab": {
      "name": "Gram Schmidt Process.ipynb",
      "provenance": [],
      "authorship_tag": "ABX9TyPAkFvegscrOYcGOVVH7MUK",
      "include_colab_link": true
    },
    "kernelspec": {
      "name": "python3",
      "display_name": "Python 3"
    },
    "language_info": {
      "name": "python"
    }
  },
  "cells": [
    {
      "cell_type": "markdown",
      "metadata": {
        "id": "view-in-github",
        "colab_type": "text"
      },
      "source": [
        "<a href=\"https://colab.research.google.com/github/isabellaottman/Linear_Algebra_Coding_Projects/blob/main/Gram_Schmidt_Process.ipynb\" target=\"_parent\"><img src=\"https://colab.research.google.com/assets/colab-badge.svg\" alt=\"Open In Colab\"/></a>"
      ]
    },
    {
      "cell_type": "code",
      "execution_count": 1,
      "metadata": {
        "id": "1zrD5e7SPzDY"
      },
      "outputs": [],
      "source": [
        "import numpy as np\n",
        "from numpy import c_"
      ]
    },
    {
      "cell_type": "code",
      "source": [
        "# write vectors:\n",
        "r1 = np.array([3,6,0])\n",
        "r1\n",
        "# dot product of r1 with itself\n",
        "r1.dot(r1)"
      ],
      "metadata": {
        "colab": {
          "base_uri": "https://localhost:8080/"
        },
        "id": "tEFY-JvNQJs9",
        "outputId": "53a79c1d-846a-4585-b8b1-63174bead2be"
      },
      "execution_count": 7,
      "outputs": [
        {
          "output_type": "execute_result",
          "data": {
            "text/plain": [
              "45"
            ]
          },
          "metadata": {},
          "execution_count": 7
        }
      ]
    },
    {
      "cell_type": "code",
      "source": [
        "np.sqrt(45)"
      ],
      "metadata": {
        "colab": {
          "base_uri": "https://localhost:8080/"
        },
        "id": "Fv9zh0_FQmam",
        "outputId": "265295e9-8581-4630-e111-200297e8c538"
      },
      "execution_count": 8,
      "outputs": [
        {
          "output_type": "execute_result",
          "data": {
            "text/plain": [
              "6.708203932499369"
            ]
          },
          "metadata": {},
          "execution_count": 8
        }
      ]
    },
    {
      "cell_type": "code",
      "source": [
        "print(\"this is the square root of 45\", np.sqrt(45))"
      ],
      "metadata": {
        "colab": {
          "base_uri": "https://localhost:8080/"
        },
        "id": "oeA2DtFuSl_2",
        "outputId": "3e319cd7-ff27-4f92-ca81-756acd8e3056"
      },
      "execution_count": 10,
      "outputs": [
        {
          "output_type": "stream",
          "name": "stdout",
          "text": [
            "this is the square root of 45 6.708203932499369\n"
          ]
        }
      ]
    },
    {
      "cell_type": "code",
      "source": [
        "# Gram-Schmidt process using the first vector [3, 6, 0]\n",
        "r1 = np.array([3, 6, 0])\n",
        "print(\"Our first messy vector is\", r1)\n",
        "# Temporary vector T1\n",
        "T1 = r1\n",
        "print(\"our T1 vector is\", T1)\n",
        "# Find the magnitude of T1\n",
        "n1 = np.sqrt(T1.dot(T1))\n",
        "print(\"the size of T1 is [T1] = \", n1)\n",
        "# renormalize, and create u1:\n",
        "u1 = (1/n1) * T1\n",
        "print(\"u1 = \", u1)"
      ],
      "metadata": {
        "colab": {
          "base_uri": "https://localhost:8080/"
        },
        "id": "TBD7hngPSwyS",
        "outputId": "c9e3751e-0605-4e07-fcfe-efff6632a58d"
      },
      "execution_count": 21,
      "outputs": [
        {
          "output_type": "stream",
          "name": "stdout",
          "text": [
            "Our first messy vector is [3 6 0]\n",
            "our T1 vector is [3 6 0]\n",
            "the size of T1 is [T1] =  6.708203932499369\n",
            "u1 =  [0.4472136  0.89442719 0.        ]\n"
          ]
        }
      ]
    },
    {
      "cell_type": "code",
      "source": [
        "# Gram-Schmidt process using the second vector [6, 2, 0]\n",
        "r2 = np.array([6, 2, 0])\n",
        "print(\"Our 2nd messy vector is\", r2)\n",
        "# Temporary vector T2\n",
        "T2 = r2 - (r2.dot(u1))*u1\n",
        "print(\"our T2 vector is\", T2)\n",
        "# Find the magnitude of T2\n",
        "n2 = np.sqrt(T2.dot(T2))\n",
        "print(\"the size of T2 is [T2] = \", n2)\n",
        "# renormalize, and create u1:\n",
        "u2 = (1/n2) * T2\n",
        "print(\"u2 = \", u2)"
      ],
      "metadata": {
        "colab": {
          "base_uri": "https://localhost:8080/"
        },
        "id": "Hi3cHU-pTKrV",
        "outputId": "54300596-de62-4f61-d513-b929f4ac18b1"
      },
      "execution_count": 20,
      "outputs": [
        {
          "output_type": "stream",
          "name": "stdout",
          "text": [
            "Our 2nd messy vector is [6 2 0]\n",
            "our T2 vector is [ 4. -2.  0.]\n",
            "the size of T2 is [T2] =  4.47213595499958\n",
            "u2 =  [ 0.89442719 -0.4472136   0.        ]\n"
          ]
        }
      ]
    },
    {
      "cell_type": "code",
      "source": [
        "# Gram-Schmidt process using the third vector [-4, 2, 0]\n",
        "r3 = np.array([-4, 2, 0])\n",
        "print(\"Our 3nd messy vector is\", r3)\n",
        "# Temporary vector T3\n",
        "T3 = r3 - (r3.dot(u2))*u2\n",
        "print(\"our T3 vector is\", T3)\n",
        "# Find the magnitude of T3\n",
        "n3 = np.sqrt(T3.dot(T3))\n",
        "print(\"the size of T3 is [T3] = \", n3)\n",
        "# renormalize, and create u2:\n",
        "u3 = (1/n3) * T3\n",
        "print(\"u3 = \", u3)"
      ],
      "metadata": {
        "colab": {
          "base_uri": "https://localhost:8080/"
        },
        "id": "cQgOmKdYVYhU",
        "outputId": "29bb71b1-cbed-4cac-9571-52cc953e9c7f"
      },
      "execution_count": 22,
      "outputs": [
        {
          "output_type": "stream",
          "name": "stdout",
          "text": [
            "Our 3nd messy vector is [-4  2  0]\n",
            "our T3 vector is [-4.4408921e-16 -8.8817842e-16  0.0000000e+00]\n",
            "the size of T3 is [T3] =  9.930136612989092e-16\n",
            "u3 =  [-0.4472136  -0.89442719  0.        ]\n"
          ]
        }
      ]
    },
    {
      "cell_type": "code",
      "source": [
        "# Gram-Schmidt process using the fourth vector [3, -4, 3]\n",
        "r4 = np.array([3, -4, 3])\n",
        "print(\"Our 4nd messy vector is\", r4)\n",
        "# Temporary vector T4\n",
        "T4 = r4 - (r4.dot(u3))*u3\n",
        "print(\"our T4 vector is\", T4)\n",
        "# Find the magnitude of T4\n",
        "n4 = np.sqrt(T4.dot(T4))\n",
        "print(\"the size of T4 is [T4] = \", n4)\n",
        "# renormalize, and create u3:\n",
        "u4 = (1/n4) * T4\n",
        "print(\"u4 = \", u4)"
      ],
      "metadata": {
        "colab": {
          "base_uri": "https://localhost:8080/"
        },
        "id": "OEuHzbxvXvUQ",
        "outputId": "a84e531d-5ce0-466d-c7b5-698a03dc0a2e"
      },
      "execution_count": 23,
      "outputs": [
        {
          "output_type": "stream",
          "name": "stdout",
          "text": [
            "Our 4nd messy vector is [ 3 -4  3]\n",
            "our T4 vector is [ 4. -2.  3.]\n",
            "the size of T4 is [T4] =  5.385164807134504\n",
            "u4 =  [ 0.74278135 -0.37139068  0.55708601]\n"
          ]
        }
      ]
    }
  ]
}